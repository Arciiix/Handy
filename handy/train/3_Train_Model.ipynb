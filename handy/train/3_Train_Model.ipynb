{
 "cells": [
  {
   "cell_type": "markdown",
   "metadata": {},
   "source": [
    "# Handy\n",
    "## Train model\n",
    "\n",
    "Now let's train the model. Handy trains it using a whole variety of classification models and then chooses which one works the best. I decided to go with a lot of different models to learn how each of them work.\n",
    "* [Random Forest (decision trees)](https://en.wikipedia.org/wiki/Random_forest)\n",
    "* [Gradient Boosting](https://en.wikipedia.org/wiki/Gradient_boosting)\n",
    "* [Stochastic Gradient Descent](https://en.wikipedia.org/wiki/Stochastic_gradient_descent)\n",
    "* [Decision Tree](https://en.wikipedia.org/wiki/Decision_tree)\n",
    "* [Naive Bayes Classifier](https://en.wikipedia.org/wiki/Naive_Bayes_classifier)\n",
    "* [K-nearest Neighbors Algorithm](https://en.wikipedia.org/wiki/K-nearest_neighbors_algorithm)\n",
    "* [Support Vector Classifier (SVC)](https://en.wikipedia.org/wiki/Support_vector_machine)\n",
    "* [Linear Support Vector Classifier (LinearSVC)](https://en.wikipedia.org/wiki/Support_vector_machine#Linear_SVM)\n",
    "* [Linear Discriminant Analysis](https://en.wikipedia.org/wiki/Linear_discriminant_analysis)\n",
    "* [Quadratic Discriminant Analysis](https://en.wikipedia.org/wiki/Quadratic_classifier)"
   ]
  },
  {
   "cell_type": "code",
   "execution_count": 56,
   "metadata": {},
   "outputs": [
    {
     "name": "stdout",
     "output_type": "stream",
     "text": [
      "Requirement already satisfied: scikit-learn in d:\\apps\\anaconda3\\envs\\handy\\lib\\site-packages (1.3.0)\n",
      "Requirement already satisfied: numpy>=1.17.3 in d:\\apps\\anaconda3\\envs\\handy\\lib\\site-packages (from scikit-learn) (1.24.3)\n",
      "Requirement already satisfied: scipy>=1.5.0 in c:\\users\\artur\\appdata\\roaming\\python\\python311\\site-packages (from scikit-learn) (1.10.1)\n",
      "Requirement already satisfied: joblib>=1.1.1 in c:\\users\\artur\\appdata\\roaming\\python\\python311\\site-packages (from scikit-learn) (1.2.0)\n",
      "Requirement already satisfied: threadpoolctl>=2.0.0 in d:\\apps\\anaconda3\\envs\\handy\\lib\\site-packages (from scikit-learn) (3.2.0)\n",
      "Note: you may need to restart the kernel to use updated packages.\n"
     ]
    }
   ],
   "source": [
    "%pip install scikit-learn"
   ]
  },
  {
   "cell_type": "code",
   "execution_count": 57,
   "metadata": {},
   "outputs": [],
   "source": [
    "import pandas as pd\n",
    "from sklearn.pipeline import make_pipeline \n",
    "from sklearn.preprocessing import StandardScaler \n",
    "\n",
    "from sklearn.ensemble import RandomForestClassifier, GradientBoostingClassifier\n",
    "from sklearn.linear_model import SGDClassifier\n",
    "from sklearn.tree import DecisionTreeClassifier\n",
    "from sklearn.naive_bayes import GaussianNB\n",
    "from sklearn.neighbors import KNeighborsClassifier\n",
    "from sklearn.svm import SVC, LinearSVC\n",
    "from sklearn.discriminant_analysis import LinearDiscriminantAnalysis, QuadraticDiscriminantAnalysis"
   ]
  },
  {
   "cell_type": "code",
   "execution_count": 58,
   "metadata": {},
   "outputs": [
    {
     "data": {
      "text/plain": [
       "class_name\n",
       "0    200\n",
       "1    200\n",
       "2    200\n",
       "3    200\n",
       "4    200\n",
       "5    200\n",
       "6    200\n",
       "7    200\n",
       "8    200\n",
       "9    200\n",
       "dtype: int64"
      ]
     },
     "execution_count": 58,
     "metadata": {},
     "output_type": "execute_result"
    }
   ],
   "source": [
    "# Load the data\n",
    "\n",
    "from os import path\n",
    "\n",
    "\n",
    "if not path.exists(\"data.csv\"):\n",
    "    print(\"The data.csv file doesn't exist! Please first come through the 2_Process_Data.ipynb notebook.\")\n",
    "    exit(-1)\n",
    "\n",
    "df = pd.read_csv(\"data.csv\")\n",
    "\n",
    "X = df.drop(\"class_name\", axis=1)\n",
    "y = df[\"class_name\"]\n",
    "\n",
    "# Number of data per class\n",
    "df.groupby(\"class_name\").size()"
   ]
  },
  {
   "cell_type": "code",
   "execution_count": 59,
   "metadata": {},
   "outputs": [
    {
     "name": "stdout",
     "output_type": "stream",
     "text": [
      "Train: 1600\n",
      "Test: 400\n"
     ]
    }
   ],
   "source": [
    "# Split data into train and test set\n",
    "\n",
    "from sklearn.model_selection import train_test_split\n",
    "\n",
    "\n",
    "X_train, X_test, y_train, y_test = train_test_split(X, y, test_size=0.2, random_state=2)\n",
    "\n",
    "y_test = y_test.to_numpy()\n",
    "\n",
    "print(f\"Train: {len(X_train)}\")\n",
    "print(f\"Test: {len(X_test)}\")"
   ]
  },
  {
   "cell_type": "code",
   "execution_count": 60,
   "metadata": {},
   "outputs": [],
   "source": [
    "pipelines = {\n",
    "    \"RandomForestClassifier\": make_pipeline(StandardScaler(), RandomForestClassifier()),\n",
    "    \"GradientBoostingClassifier\": make_pipeline(StandardScaler(), GradientBoostingClassifier()),\n",
    "    \"SGDClassifier\": make_pipeline(StandardScaler(), SGDClassifier()),\n",
    "    \"DecisionTreeClassifier\": make_pipeline(StandardScaler(), DecisionTreeClassifier()),\n",
    "    \"GaussianNB\": make_pipeline(StandardScaler(), GaussianNB()),\n",
    "    \"KNeighborsClassifier\": make_pipeline(StandardScaler(), KNeighborsClassifier()),\n",
    "    \"SVC\": make_pipeline(StandardScaler(), SVC()),\n",
    "    \"LinearSVC\": make_pipeline(StandardScaler(), LinearSVC()),\n",
    "    \"LinearDiscriminantAnalysis\": make_pipeline(StandardScaler(), LinearDiscriminantAnalysis()),\n",
    "    \"QuadraticDiscriminantAnalysis\": make_pipeline(StandardScaler(), QuadraticDiscriminantAnalysis()),\n",
    "}"
   ]
  },
  {
   "cell_type": "code",
   "execution_count": 61,
   "metadata": {},
   "outputs": [
    {
     "name": "stdout",
     "output_type": "stream",
     "text": [
      "[RandomForestClassifier]: accuracy = 0.9775\n",
      "[RandomForestClassifier]: log loss = 0.17702533328706957\n",
      "[GradientBoostingClassifier]: accuracy = 0.96\n",
      "[GradientBoostingClassifier]: log loss = 0.14423208834160978\n",
      "[SGDClassifier]: accuracy = 0.6525\n",
      "[DecisionTreeClassifier]: accuracy = 0.945\n",
      "[DecisionTreeClassifier]: log loss = 1.9824009364014454\n",
      "[GaussianNB]: accuracy = 0.855\n",
      "[GaussianNB]: log loss = 0.5994193279360206\n",
      "[KNeighborsClassifier]: accuracy = 0.9775\n",
      "[KNeighborsClassifier]: log loss = 0.3921929029873924\n",
      "[SVC]: accuracy = 0.92\n",
      "[LinearSVC]: accuracy = 0.8\n",
      "[LinearDiscriminantAnalysis]: accuracy = 0.6925\n",
      "[LinearDiscriminantAnalysis]: log loss = 0.9549862885554117\n",
      "[QuadraticDiscriminantAnalysis]: accuracy = 0.935\n",
      "[QuadraticDiscriminantAnalysis]: log loss = 0.3728535240093255\n"
     ]
    },
    {
     "name": "stderr",
     "output_type": "stream",
     "text": [
      "d:\\apps\\Anaconda3\\envs\\handy\\Lib\\site-packages\\sklearn\\svm\\_classes.py:32: FutureWarning: The default value of `dual` will change from `True` to `'auto'` in 1.5. Set the value of `dual` explicitly to suppress the warning.\n",
      "  warnings.warn(\n"
     ]
    }
   ],
   "source": [
    "from sklearn.metrics import accuracy_score, log_loss\n",
    "\n",
    "models = {}\n",
    "\n",
    "for name, algorithm in pipelines.items():\n",
    "    model = algorithm.fit(X_train, y_train)\n",
    "\n",
    "    # Calculate the metrics (accurracy)\n",
    "    y_predicted = model.predict(X_test)\n",
    "    accuracy = accuracy_score(y_test, y_predicted)\n",
    "    print(f\"[{name}]: accuracy = {accuracy}\")\n",
    "\n",
    "    try:\n",
    "        train_predictions = model.predict_proba(X_test)\n",
    "        loss = log_loss(y_test, train_predictions)\n",
    "        print(f\"[{name}]: log loss = {loss}\")\n",
    "    except:\n",
    "        pass\n",
    "    \n",
    "    models[name] = model\n",
    "\n",
    "    # incorrect_indices = [i for i in range(len(y_test)) if y_test[i] != y_predicted[i]]\n",
    "    # incorrect_predictions = [(y_test[i], y_predicted[i]) for i in incorrect_indices]\n",
    "\n",
    "    # # Print the actual incorrect predictions\n",
    "    # print(\"Incorrect predictions:\")\n",
    "    # for true_label, predicted_label in incorrect_predictions:\n",
    "    #     print(f\"True: {true_label}, Predicted: {predicted_label}\")\n",
    "    "
   ]
  },
  {
   "cell_type": "code",
   "execution_count": 62,
   "metadata": {},
   "outputs": [],
   "source": [
    "import pickle\n",
    "\n",
    "selected_model = models[\"RandomForestClassifier\"]\n",
    "\n",
    "with open(\"handy_classifier.pkl\", \"wb\") as f:\n",
    "    pickle.dump(selected_model, f)"
   ]
  },
  {
   "cell_type": "code",
   "execution_count": 63,
   "metadata": {},
   "outputs": [
    {
     "name": "stderr",
     "output_type": "stream",
     "text": [
      "d:\\apps\\Anaconda3\\envs\\handy\\Lib\\site-packages\\sklearn\\base.py:464: UserWarning: X does not have valid feature names, but StandardScaler was fitted with feature names\n",
      "  warnings.warn(\n"
     ]
    },
    {
     "data": {
      "text/plain": [
       "6"
      ]
     },
     "execution_count": 63,
     "metadata": {},
     "output_type": "execute_result"
    }
   ],
   "source": [
    "# Test\n",
    "# Should predict 7\n",
    "selected_model.predict([[166.76, 179.76, 79.35, 6.82]])[0]"
   ]
  }
 ],
 "metadata": {
  "kernelspec": {
   "display_name": "handy",
   "language": "python",
   "name": "python3"
  },
  "language_info": {
   "codemirror_mode": {
    "name": "ipython",
    "version": 3
   },
   "file_extension": ".py",
   "mimetype": "text/x-python",
   "name": "python",
   "nbconvert_exporter": "python",
   "pygments_lexer": "ipython3",
   "version": "3.11.4"
  },
  "orig_nbformat": 4
 },
 "nbformat": 4,
 "nbformat_minor": 2
}
