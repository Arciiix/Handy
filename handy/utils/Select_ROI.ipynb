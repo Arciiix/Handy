{
 "cells": [
  {
   "cell_type": "markdown",
   "metadata": {},
   "source": [
    "# Handy\n",
    "## Select ROI\n",
    "\n",
    "ROI (region of interest) is a term of computer vision that defines the portion of an image that will be processed. In Handy, ROI defines the area the detected person has to stand in to be considered as target."
   ]
  },
  {
   "cell_type": "code",
   "execution_count": 6,
   "metadata": {},
   "outputs": [],
   "source": [
    "import sys\n",
    "sys.path.append('..')\n",
    "from config import CONFIG"
   ]
  },
  {
   "cell_type": "code",
   "execution_count": 2,
   "metadata": {},
   "outputs": [
    {
     "ename": "",
     "evalue": "",
     "output_type": "error",
     "traceback": [
      "\u001b[1;31mThe Kernel crashed while executing code in the the current cell or a previous cell. Please review the code in the cell(s) to identify a possible cause of the failure. Click <a href='https://aka.ms/vscodeJupyterKernelCrash'>here</a> for more info. View Jupyter <a href='command:jupyter.viewOutput'>log</a> for further details."
     ]
    }
   ],
   "source": [
    "import json\n",
    "import logging\n",
    "from os import path\n",
    "import cv2\n",
    "\n",
    "rectangle = []\n",
    "drawing = False\n",
    "\n",
    "HANDY_WINDOW = \"Handy\"\n",
    "\n",
    "def draw_rectangle(event, x, y, flags, param):\n",
    "    global rectangle\n",
    "    global drawing\n",
    "    if event == cv2.EVENT_LBUTTONDOWN:\n",
    "        # Left mouse button down - store the starting point\n",
    "        drawing = True\n",
    "        rectangle = [x, y, x, y]\n",
    "    elif event == cv2.EVENT_MOUSEMOVE:\n",
    "        # Move has moved - update the rectangle\n",
    "        if drawing:\n",
    "            rectangle[2], rectangle[3] = x, y\n",
    "    elif event == cv2.EVENT_LBUTTONUP:\n",
    "        # Left mouse button up - end drawing\n",
    "        drawing = False\n",
    "\n",
    "\n",
    "# Init the video feed\n",
    "cap = cv2.VideoCapture(CONFIG.stream_url, cv2.CAP_FFMPEG)\n",
    "\n",
    "if not cap.isOpened():\n",
    "    logging.error(\"VideoCapture not opened\")\n",
    "    exit(-1)\n",
    "\n",
    "cv2.namedWindow(HANDY_WINDOW)\n",
    "cv2.setMouseCallback(HANDY_WINDOW, draw_rectangle)\n",
    "\n",
    "while True:\n",
    "    ret, frame = cap.read()\n",
    "    if not ret or frame is None:\n",
    "        print(\"Corrupted frame, retrying...\")\n",
    "        continue\n",
    "\n",
    "    # Resize frame\n",
    "    frame = cv2.resize(frame, (CONFIG.resize_width, CONFIG.resize_height))\n",
    "\n",
    "    cv2.putText(frame, \"When you're ready, press 'q'\", (0, 30), cv2.FONT_HERSHEY_SIMPLEX, 1, (0, 0, 0), 3)\n",
    "    # If there's a full rectangle\n",
    "    if len(rectangle) == 4:\n",
    "        cv2.rectangle(frame, (rectangle[0], rectangle[1]), (rectangle[2], rectangle[3]), (0, 255, 0), 2)\n",
    "    \n",
    "    cv2.imshow(HANDY_WINDOW, frame)\n",
    "    \n",
    "    key = cv2.waitKey(1) & 0xFF\n",
    "    if key == ord('q'):\n",
    "        break\n",
    "\n",
    "if rectangle:\n",
    "    print(f\"Selected: {rectangle}\")\n",
    "\n",
    "    with open(path.join(\"..\", \"ROI.json\"), \"w\") as f:\n",
    "        ROI = {\n",
    "            \"x1\": rectangle[0],\n",
    "            \"y1\": rectangle[1],\n",
    "            \"x2\": rectangle[2],\n",
    "            \"y2\": rectangle[3],\n",
    "        }\n",
    "        json.dump(ROI, f)\n",
    "else:\n",
    "    print(\"Didn't select the ROI!\")\n",
    "\n",
    "cap.release()\n",
    "cv2.destroyAllWindows()\n"
   ]
  }
 ],
 "metadata": {
  "kernelspec": {
   "display_name": "handy",
   "language": "python",
   "name": "python3"
  },
  "language_info": {
   "codemirror_mode": {
    "name": "ipython",
    "version": 3
   },
   "file_extension": ".py",
   "mimetype": "text/x-python",
   "name": "python",
   "nbconvert_exporter": "python",
   "pygments_lexer": "ipython3",
   "version": "3.11.4"
  },
  "orig_nbformat": 4
 },
 "nbformat": 4,
 "nbformat_minor": 2
}
