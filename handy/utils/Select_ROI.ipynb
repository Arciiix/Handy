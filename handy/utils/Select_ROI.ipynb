{
 "cells": [
  {
   "cell_type": "markdown",
   "metadata": {},
   "source": [
    "# Handy\n",
    "## Select ROI\n",
    "\n",
    "ROI (region of interest) is a term of computer vision that defines the portion of an image that will be processed.\n",
    "\n",
    "This notebook allows you to select:\n",
    "* ROI - region of interest - defines the area that the model will be fitted with.\n",
    "* T-ROI - \"trigger region of interest\" - defines the area that causes the FPS to switch to the fast mode if something moves in it. Used to detect gestures before ROI to then make it immediate there.\n",
    "* G-ROI - \"gesture region of interest\" - detected the area that person has to stand in to be considered as target.\n",
    "\n",
    "Assert: ROI > T-ROI > G-ROI"
   ]
  },
  {
   "cell_type": "code",
   "execution_count": 28,
   "metadata": {},
   "outputs": [],
   "source": [
    "import sys\n",
    "sys.path.append('..')\n",
    "from config import CONFIG"
   ]
  },
  {
   "cell_type": "code",
   "execution_count": 29,
   "metadata": {},
   "outputs": [],
   "source": [
    "ROI = None\n",
    "TROI = None\n",
    "GROI = None"
   ]
  },
  {
   "cell_type": "code",
   "execution_count": 30,
   "metadata": {},
   "outputs": [],
   "source": [
    "import json\n",
    "import logging\n",
    "from os import path\n",
    "import cv2\n",
    "\n",
    "rectangle = []\n",
    "drawing = False\n",
    "\n",
    "HANDY_WINDOW = \"Handy\"\n",
    "\n",
    "def draw_rectangle(event, x, y, flags, param):\n",
    "    global rectangle\n",
    "    global drawing\n",
    "    if event == cv2.EVENT_LBUTTONDOWN:\n",
    "        # Left mouse button down - store the starting point\n",
    "        drawing = True\n",
    "        rectangle = [x, y, x, y]\n",
    "    elif event == cv2.EVENT_MOUSEMOVE:\n",
    "        # Move has moved - update the rectangle\n",
    "        if drawing:\n",
    "            rectangle[2], rectangle[3] = x, y\n",
    "    elif event == cv2.EVENT_LBUTTONUP:\n",
    "        # Left mouse button up - end drawing\n",
    "        drawing = False\n",
    "\n",
    "\n",
    "def select_roi(title: str):\n",
    "    # Init the video feed\n",
    "    cap = cv2.VideoCapture(CONFIG.stream_url, cv2.CAP_FFMPEG)\n",
    "\n",
    "    if not cap.isOpened():\n",
    "        logging.error(\"VideoCapture not opened\")\n",
    "        exit(-1)\n",
    "\n",
    "    cv2.namedWindow(HANDY_WINDOW)\n",
    "    cv2.setMouseCallback(HANDY_WINDOW, draw_rectangle)\n",
    "\n",
    "    while True:\n",
    "        ret, frame = cap.read()\n",
    "        if not ret or frame is None:\n",
    "            print(\"Corrupted frame, retrying...\")\n",
    "            continue\n",
    "\n",
    "        # Resize frame\n",
    "        frame = cv2.resize(frame, (CONFIG.resize_width, CONFIG.resize_height))\n",
    "\n",
    "        cv2.putText(frame, title, (0, 30), cv2.FONT_HERSHEY_SIMPLEX, 1, (0, 0, 0), 3)\n",
    "        cv2.putText(frame, \"When you're ready, press 'q'\", (0, 60), cv2.FONT_HERSHEY_SIMPLEX, 1, (0, 0, 0), 3)\n",
    "        # If there's a full rectangle\n",
    "        if len(rectangle) == 4:\n",
    "            cv2.rectangle(frame, (rectangle[0], rectangle[1]), (rectangle[2], rectangle[3]), (0, 255, 0), 2)\n",
    "        \n",
    "        # If there is previously selected ROI or T-ROI, draw it\n",
    "        if ROI is not None:\n",
    "            cv2.rectangle(frame, (ROI[\"x1\"], ROI[\"y1\"]), (ROI[\"x2\"], ROI[\"y2\"]), (0, 255, 0), 2)\n",
    "        if TROI is not None:\n",
    "            cv2.rectangle(frame, (TROI[\"x1\"], TROI[\"y1\"]), (TROI[\"x2\"], TROI[\"y2\"]), (0, 0, 255), 2)\n",
    "        if GROI is not None:\n",
    "            cv2.rectangle(frame, (GROI[\"x1\"], GROI[\"y1\"]), (GROI[\"x2\"], GROI[\"y2\"]), (255, 0, 0), 2)\n",
    "\n",
    "        cv2.imshow(HANDY_WINDOW, frame)\n",
    "        \n",
    "        key = cv2.waitKey(1) & 0xFF\n",
    "        if key == ord('q'):\n",
    "            break\n",
    "\n",
    "    print(f\"Selected: {rectangle}\")\n",
    "    cap.release()\n",
    "    cv2.destroyAllWindows()\n",
    "\n",
    "    # Add some assertions to prevent user from providing the wrong data\n",
    "    assert(rectangle[0] < rectangle[2]) # x1 < x2\n",
    "    assert(rectangle[1] < rectangle[3]) # y1 < y2\n",
    "    assert(rectangle[0] >= 0) # x1 >= 0\n",
    "    assert(rectangle[1] <= CONFIG.resize_width) # x2 <= width\n",
    "    assert(rectangle[2] >= 0) # y1 >= 0\n",
    "    assert(rectangle[3] <= CONFIG.resize_height) # y2 <= height\n",
    "\n",
    "    return rectangle\n"
   ]
  },
  {
   "cell_type": "code",
   "execution_count": 31,
   "metadata": {},
   "outputs": [
    {
     "name": "stdout",
     "output_type": "stream",
     "text": [
      "Selected: [229, 126, 576, 534]\n",
      "Selected: [229, 126, 576, 534]\n"
     ]
    }
   ],
   "source": [
    "# Select ROI\n",
    "ROI = select_roi(\"Please select ROI (region of interest)\")\n",
    "\n",
    "# Clear global variables\n",
    "rectangle = []\n",
    "drawing = False\n",
    "\n",
    "if ROI:\n",
    "    print(f\"Selected: {ROI}\")\n",
    "    with open(path.join(\"..\", \"ROI.json\"), \"w\") as f:\n",
    "        ROI = {\n",
    "            \"x1\": ROI[0],\n",
    "            \"y1\": ROI[1],\n",
    "            \"x2\": ROI[2],\n",
    "            \"y2\": ROI[3],\n",
    "        }\n",
    "        json.dump(ROI, f)\n",
    "else:\n",
    "    print(\"Didn't select the ROI!\")"
   ]
  },
  {
   "cell_type": "code",
   "execution_count": 32,
   "metadata": {},
   "outputs": [
    {
     "name": "stdout",
     "output_type": "stream",
     "text": [
      "Selected: [304, 352, 534, 514]\n",
      "Selected: [304, 352, 534, 514]\n"
     ]
    }
   ],
   "source": [
    "# Select trigger ROI\n",
    "TROI = select_roi(\"Please select T-ROI (trigger region of interest)\")\n",
    "\n",
    "# Clear global variables\n",
    "rectangle = []\n",
    "drawing = False\n",
    "\n",
    "if TROI:\n",
    "    \n",
    "    print(f\"Selected: {TROI}\")\n",
    "    with open(path.join(\"..\", \"TROI.json\"), \"w\") as f:\n",
    "        TROI = {\n",
    "            \"x1\": TROI[0],\n",
    "            \"y1\": TROI[1],\n",
    "            \"x2\": TROI[2],\n",
    "            \"y2\": TROI[3],\n",
    "        }\n",
    "\n",
    "        # Assert that T-ROI has to fit within ROI\n",
    "        assert(TROI[\"x1\"] > ROI[\"x1\"])\n",
    "        assert(TROI[\"y1\"] > ROI[\"y1\"])\n",
    "        assert(TROI[\"x2\"] < ROI[\"x2\"])\n",
    "        assert(TROI[\"y2\"] < ROI[\"y2\"])\n",
    "        json.dump(TROI, f)\n",
    "else:\n",
    "    print(\"Didn't select the T-ROI!\")"
   ]
  },
  {
   "cell_type": "code",
   "execution_count": 33,
   "metadata": {},
   "outputs": [
    {
     "name": "stdout",
     "output_type": "stream",
     "text": [
      "Selected: [362, 404, 474, 477]\n",
      "Selected: [362, 404, 474, 477]\n"
     ]
    }
   ],
   "source": [
    "# Select gesture ROI\n",
    "GROI = select_roi(\"Please select G-ROI (gesture region of interest)\")\n",
    "\n",
    "# Clear global variables\n",
    "rectangle = []\n",
    "drawing = False\n",
    "\n",
    "if GROI:\n",
    "    print(f\"Selected: {GROI}\")\n",
    "    with open(path.join(\"..\", \"GROI.json\"), \"w\") as f:\n",
    "        GROI = {\n",
    "            \"x1\": GROI[0],\n",
    "            \"y1\": GROI[1],\n",
    "            \"x2\": GROI[2],\n",
    "            \"y2\": GROI[3],\n",
    "        }\n",
    "        # Assert that G-ROI has to fit within T-ROI\n",
    "        assert(GROI[\"x1\"] > TROI[\"x1\"])\n",
    "        assert(GROI[\"y1\"] > TROI[\"y1\"])\n",
    "        assert(GROI[\"x2\"] < TROI[\"x2\"])\n",
    "        assert(GROI[\"y2\"] < TROI[\"y2\"])\n",
    "        json.dump(GROI, f)\n",
    "else:\n",
    "    print(\"Didn't select the G-ROI!\")"
   ]
  }
 ],
 "metadata": {
  "kernelspec": {
   "display_name": "handy",
   "language": "python",
   "name": "python3"
  },
  "language_info": {
   "codemirror_mode": {
    "name": "ipython",
    "version": 3
   },
   "file_extension": ".py",
   "mimetype": "text/x-python",
   "name": "python",
   "nbconvert_exporter": "python",
   "pygments_lexer": "ipython3",
   "version": "3.11.4"
  },
  "orig_nbformat": 4
 },
 "nbformat": 4,
 "nbformat_minor": 2
}
